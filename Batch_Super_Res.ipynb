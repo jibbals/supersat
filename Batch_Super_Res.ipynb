{
  "nbformat": 4,
  "nbformat_minor": 0,
  "metadata": {
    "colab": {
      "name": "Batch Super Res.ipynb",
      "provenance": [],
      "collapsed_sections": [],
      "authorship_tag": "ABX9TyNvE9xUq2FaMVeCE0TcffId",
      "include_colab_link": true
    },
    "kernelspec": {
      "name": "python3",
      "display_name": "Python 3"
    },
    "accelerator": "GPU"
  },
  "cells": [
    {
      "cell_type": "markdown",
      "metadata": {
        "id": "view-in-github",
        "colab_type": "text"
      },
      "source": [
        "<a href=\"https://colab.research.google.com/github/jibbals/supersat/blob/master/Batch_Super_Res.ipynb\" target=\"_parent\"><img src=\"https://colab.research.google.com/assets/colab-badge.svg\" alt=\"Open In Colab\"/></a>"
      ]
    },
    {
      "cell_type": "code",
      "metadata": {
        "id": "lY0C-Qsu-jTn",
        "colab_type": "code",
        "outputId": "fc9463d0-b6ba-4231-80e1-1aa5e6d7a8e8",
        "colab": {
          "base_uri": "https://localhost:8080/",
          "height": 34
        }
      },
      "source": [
        "from google.colab import drive\n",
        "drive.mount('/content/gdrive', force_remount=True)\n",
        "root_dir = \"/content/gdrive/My Drive/\"\n",
        "base_dir = root_dir + 'fastai-v3/'"
      ],
      "execution_count": 0,
      "outputs": [
        {
          "output_type": "stream",
          "text": [
            "Mounted at /content/gdrive\n"
          ],
          "name": "stdout"
        }
      ]
    },
    {
      "cell_type": "code",
      "metadata": {
        "id": "aCT_pCTM-qT1",
        "colab_type": "code",
        "outputId": "b9e31492-b7b9-4c05-acc3-3b9ea9787d84",
        "colab": {
          "base_uri": "https://localhost:8080/",
          "height": 51
        }
      },
      "source": [
        "  !curl -s https://course.fast.ai/setup/colab | bash\n"
      ],
      "execution_count": 0,
      "outputs": [
        {
          "output_type": "stream",
          "text": [
            "Updating fastai...\n",
            "Done.\n"
          ],
          "name": "stdout"
        }
      ]
    },
    {
      "cell_type": "code",
      "metadata": {
        "id": "De977AwD-yYI",
        "colab_type": "code",
        "colab": {}
      },
      "source": [
        "import fastai\n",
        "from fastai.vision import *\n",
        "from fastai.callbacks import *\n",
        "from fastai.utils.mem import *\n",
        "from torchvision.models import vgg16_bn"
      ],
      "execution_count": 0,
      "outputs": []
    },
    {
      "cell_type": "code",
      "metadata": {
        "id": "mmUl0_nWAWWr",
        "colab_type": "code",
        "colab": {}
      },
      "source": [
        "path = base_dir + 'All Images'\n",
        "\n",
        "path_hr = Path(path + '/SH')\n",
        "path_mr = Path(path + '/SM')\n",
        "path_lr = Path(path + '/SL')\n",
        "path_land_sat = Path(base_dir +'Test Land Sat bunch/LS 160')\n",
        "path_empty = Path(path +'/empty')"
      ],
      "execution_count": 0,
      "outputs": []
    },
    {
      "cell_type": "code",
      "metadata": {
        "id": "nz8RowDa-02K",
        "colab_type": "code",
        "colab": {}
      },
      "source": [
        "\n"
      ],
      "execution_count": 0,
      "outputs": []
    },
    {
      "cell_type": "code",
      "metadata": {
        "id": "pv7Hr_lQAKVY",
        "colab_type": "code",
        "colab": {}
      },
      "source": [
        "il = ImageList.from_folder(path_empty)"
      ],
      "execution_count": 0,
      "outputs": []
    },
    {
      "cell_type": "code",
      "metadata": {
        "id": "d5jikaiSKKjm",
        "colab_type": "code",
        "colab": {}
      },
      "source": [
        "# def resize_one(fn, i, path, size):\n",
        "#     dest = path/fn.relative_to(path_hr)\n",
        "#     dest.parent.mkdir(parents=True, exist_ok=True)\n",
        "#     img = PIL.Image.open(fn)\n",
        "#     targ_sz = resize_to(img, size, use_min=True)\n",
        "#     img = img.resize(targ_sz, resample=PIL.Image.BILINEAR).convert('RGB')\n",
        "#     img.save(dest, quality=60)"
      ],
      "execution_count": 0,
      "outputs": []
    },
    {
      "cell_type": "code",
      "metadata": {
        "id": "W6-mwu8fKKsb",
        "colab_type": "code",
        "colab": {}
      },
      "source": [
        "#create smaller image sets the first time this nb is run\n",
        "# sets = [(path_lr, 96), (path_mr, 256)]\n",
        "# for p,size in sets:\n",
        "#     if not p.exists(): \n",
        "#         print(f\"resizing to {size} into {p}\")\n",
        "#         parallel(partial(resize_one, path=p, size=size), il.items)"
      ],
      "execution_count": 0,
      "outputs": []
    },
    {
      "cell_type": "code",
      "metadata": {
        "id": "IMdPTEO5KKyR",
        "colab_type": "code",
        "colab": {}
      },
      "source": [
        "bs,size=64,128 #32,128\n",
        "arch = models.resnet34\n",
        "\n",
        "src = ImageImageList.from_folder(path_empty).split_by_rand_pct(0.5, seed=42)"
      ],
      "execution_count": 0,
      "outputs": []
    },
    {
      "cell_type": "code",
      "metadata": {
        "id": "IZHiSjvoKK4Q",
        "colab_type": "code",
        "colab": {}
      },
      "source": [
        "def get_data(bs,size):#was path_hr\n",
        "    data = (src.label_from_func(lambda x: path_empty/x.name)\n",
        "           .transform(get_transforms(max_zoom=2.), size=size, tfm_y=True)\n",
        "           .databunch(bs=bs).normalize(imagenet_stats, do_y=True))\n",
        "\n",
        "    data.c = 3\n",
        "    return data\n",
        "\n",
        "\n",
        "# def get_data(bs,size):\n",
        "#     data = (src.label_from_func(lambda x: path_empty/x.name). #was path_hr\n",
        "#            .transform(get_transforms(max_zoom=2.), size=size, tfm_y=True)\n",
        "#            .databunch(bs=bs).normalize(imagenet_stats, do_y=True))\n",
        "\n",
        "#     data.c = 3\n",
        "#     return data"
      ],
      "execution_count": 0,
      "outputs": []
    },
    {
      "cell_type": "code",
      "metadata": {
        "id": "xhI7ToCUKK7d",
        "colab_type": "code",
        "outputId": "a7acad35-6fe1-44ce-9b4b-4ae284b80f38",
        "colab": {
          "base_uri": "https://localhost:8080/",
          "height": 394
        }
      },
      "source": [
        "data = get_data(bs,size)\n",
        "data"
      ],
      "execution_count": 0,
      "outputs": [
        {
          "output_type": "stream",
          "text": [
            "You can deactivate this warning by passing `no_check=True`.\n"
          ],
          "name": "stdout"
        },
        {
          "output_type": "stream",
          "text": [
            "/usr/local/lib/python3.6/dist-packages/fastai/basic_data.py:248: UserWarning: Your training dataloader is empty, you have only 1 items in your training set.\n",
            "                 Your batch size is 64, you should lower it.\n",
            "  Your batch size is {self.train_dl.batch_size}, you should lower it.\"\"\")\n"
          ],
          "name": "stderr"
        },
        {
          "output_type": "execute_result",
          "data": {
            "text/plain": [
              "ImageDataBunch;\n",
              "\n",
              "Train: LabelList (1 items)\n",
              "x: ImageImageList\n",
              "Image (3, 128, 128)\n",
              "y: ImageList\n",
              "Image (3, 128, 128)\n",
              "Path: /content/gdrive/My Drive/fastai-v3/All Images/empty;\n",
              "\n",
              "Valid: LabelList (1 items)\n",
              "x: ImageImageList\n",
              "Image (3, 128, 128)\n",
              "y: ImageList\n",
              "Image (3, 128, 128)\n",
              "Path: /content/gdrive/My Drive/fastai-v3/All Images/empty;\n",
              "\n",
              "Test: None"
            ]
          },
          "metadata": {
            "tags": []
          },
          "execution_count": 9
        }
      ]
    },
    {
      "cell_type": "code",
      "metadata": {
        "id": "nUnZTcivKSUp",
        "colab_type": "code",
        "colab": {}
      },
      "source": [
        "t = data.valid_ds[0][1].data\n",
        "t = torch.stack([t,t])"
      ],
      "execution_count": 0,
      "outputs": []
    },
    {
      "cell_type": "code",
      "metadata": {
        "id": "82ZBsAoHKSd0",
        "colab_type": "code",
        "colab": {}
      },
      "source": [
        "def gram_matrix(x):\n",
        "    n,c,h,w = x.size()\n",
        "    x = x.view(n, c, -1)\n",
        "    return (x @ x.transpose(1,2))/(c*h*w)"
      ],
      "execution_count": 0,
      "outputs": []
    },
    {
      "cell_type": "code",
      "metadata": {
        "id": "xeauzN8sKScg",
        "colab_type": "code",
        "colab": {}
      },
      "source": [
        "gram_matrix(t)\n",
        "base_loss = F.l1_loss"
      ],
      "execution_count": 0,
      "outputs": []
    },
    {
      "cell_type": "code",
      "metadata": {
        "id": "FjH_5F8gKSX8",
        "colab_type": "code",
        "colab": {}
      },
      "source": [
        "# copy_to = '/root/.cache/torch/checkpoints/vgg16_bn-6c64b313.pth'\n",
        "# copy_from = base_dir + 'vgg16_bn-6c64b313.pth'\n",
        "# print(copy_from)\n",
        "# shutil.copyfile(copy_from, copy_to) "
      ],
      "execution_count": 0,
      "outputs": []
    },
    {
      "cell_type": "code",
      "metadata": {
        "id": "p0rArKXhKK10",
        "colab_type": "code",
        "colab": {}
      },
      "source": [
        "vgg_m = vgg16_bn(True).features.cuda().eval()\n",
        "requires_grad(vgg_m, False)"
      ],
      "execution_count": 0,
      "outputs": []
    },
    {
      "cell_type": "code",
      "metadata": {
        "id": "daNXPX2RKKwo",
        "colab_type": "code",
        "outputId": "32fa0192-141c-45d8-9afd-9d5c08141eb4",
        "colab": {
          "base_uri": "https://localhost:8080/",
          "height": 119
        }
      },
      "source": [
        "blocks = [i-1 for i,o in enumerate(children(vgg_m)) if isinstance(o,nn.MaxPool2d)]\n",
        "blocks, [vgg_m[i] for i in blocks]"
      ],
      "execution_count": 0,
      "outputs": [
        {
          "output_type": "execute_result",
          "data": {
            "text/plain": [
              "([5, 12, 22, 32, 42],\n",
              " [ReLU(inplace=True),\n",
              "  ReLU(inplace=True),\n",
              "  ReLU(inplace=True),\n",
              "  ReLU(inplace=True),\n",
              "  ReLU(inplace=True)])"
            ]
          },
          "metadata": {
            "tags": []
          },
          "execution_count": 15
        }
      ]
    },
    {
      "cell_type": "code",
      "metadata": {
        "id": "mWm8-8mNKft1",
        "colab_type": "code",
        "colab": {}
      },
      "source": [
        "class FeatureLoss(nn.Module):\n",
        "    def __init__(self, m_feat, layer_ids, layer_wgts):\n",
        "        super().__init__()\n",
        "        self.m_feat = m_feat\n",
        "        self.loss_features = [self.m_feat[i] for i in layer_ids]\n",
        "        self.hooks = hook_outputs(self.loss_features, detach=False)\n",
        "        self.wgts = layer_wgts\n",
        "        self.metric_names = ['pixel',] + [f'feat_{i}' for i in range(len(layer_ids))\n",
        "              ] + [f'gram_{i}' for i in range(len(layer_ids))]\n",
        "\n",
        "    def make_features(self, x, clone=False):\n",
        "        self.m_feat(x)\n",
        "        return [(o.clone() if clone else o) for o in self.hooks.stored]\n",
        "    \n",
        "    def forward(self, input, target):\n",
        "        out_feat = self.make_features(target, clone=True)\n",
        "        in_feat = self.make_features(input)\n",
        "        self.feat_losses = [base_loss(input,target)]\n",
        "        self.feat_losses += [base_loss(f_in, f_out)*w\n",
        "                             for f_in, f_out, w in zip(in_feat, out_feat, self.wgts)]\n",
        "        self.feat_losses += [base_loss(gram_matrix(f_in), gram_matrix(f_out))*w**2 * 5e3\n",
        "                             for f_in, f_out, w in zip(in_feat, out_feat, self.wgts)]\n",
        "        self.metrics = dict(zip(self.metric_names, self.feat_losses))\n",
        "        return sum(self.feat_losses)\n",
        "    \n",
        "    def __del__(self): self.hooks.remove()"
      ],
      "execution_count": 0,
      "outputs": []
    },
    {
      "cell_type": "code",
      "metadata": {
        "id": "owZvWOaGKfzo",
        "colab_type": "code",
        "colab": {}
      },
      "source": [
        "feat_loss = FeatureLoss(vgg_m, blocks[2:5], [5,15,2])"
      ],
      "execution_count": 0,
      "outputs": []
    },
    {
      "cell_type": "code",
      "metadata": {
        "id": "u0-WPS3gKf5g",
        "colab_type": "code",
        "colab": {}
      },
      "source": [
        "# copy_to = '/root/.cache/torch/checkpoints/resnet34-333f7ec4.pth'\n",
        "# copy_from = base_dir + 'resnet34-333f7ec4.pth'\n",
        "# print(copy_from)\n",
        "# shutil.copyfile(copy_from, copy_to) "
      ],
      "execution_count": 0,
      "outputs": []
    },
    {
      "cell_type": "code",
      "metadata": {
        "id": "QkWXb9sJKf-q",
        "colab_type": "code",
        "colab": {}
      },
      "source": [
        "wd = 1e-3\n",
        "learn = unet_learner(data, arch, wd=wd, loss_func=feat_loss, callback_fns=LossMetrics,blur=True, norm_type=NormType.Weight)\n",
        "gc.collect();"
      ],
      "execution_count": 0,
      "outputs": []
    },
    {
      "cell_type": "code",
      "metadata": {
        "id": "DRCClj7bKf3E",
        "colab_type": "code",
        "outputId": "c53b19be-5db4-48a7-925a-f2a6be45514f",
        "colab": {
          "base_uri": "https://localhost:8080/",
          "height": 34
        }
      },
      "source": [
        "free = gpu_mem_get_free_no_cache()\n",
        "# the max size of the test image depends on the available GPU RAM \n",
        "if free > 8000: size=(400, 400) # >  8GB RAM\n",
        "else:           size=( 400, 400) # <= 8GB RAM\n",
        "print(f\"using size={size}, have {free}MB of GPU RAM free\")"
      ],
      "execution_count": 0,
      "outputs": [
        {
          "output_type": "stream",
          "text": [
            "using size=(400, 400), have 15337MB of GPU RAM free\n"
          ],
          "name": "stdout"
        }
      ]
    },
    {
      "cell_type": "code",
      "metadata": {
        "id": "WKIeNT_DMaY9",
        "colab_type": "code",
        "colab": {}
      },
      "source": [
        "learn = unet_learner(data, arch, loss_func=F.l1_loss, blur=True, norm_type=NormType.Weight)"
      ],
      "execution_count": 0,
      "outputs": []
    },
    {
      "cell_type": "code",
      "metadata": {
        "id": "JFJw_hAuMahS",
        "colab_type": "code",
        "outputId": "0ac7692a-ee66-4e30-880f-e66deb9ba3fd",
        "colab": {
          "base_uri": "https://localhost:8080/",
          "height": 71
        }
      },
      "source": [
        "data_mr = (ImageImageList.from_folder(path_land_sat).split_by_rand_pct(1, seed=42)\n",
        "          .label_from_func(lambda x: path_land_sat/x.name)\n",
        "          .transform(get_transforms(), size=size, tfm_y=True)\n",
        "          .databunch(bs=1).normalize(imagenet_stats, do_y=True))\n",
        "data_mr.c = 3"
      ],
      "execution_count": 0,
      "outputs": [
        {
          "output_type": "stream",
          "text": [
            "/usr/local/lib/python3.6/dist-packages/fastai/data_block.py:454: UserWarning: Your training set is empty. If this is by design, pass `ignore_empty=True` to remove this warning.\n",
            "  warn(\"Your training set is empty. If this is by design, pass `ignore_empty=True` to remove this warning.\")\n"
          ],
          "name": "stderr"
        }
      ]
    },
    {
      "cell_type": "code",
      "metadata": {
        "id": "4zjaAuTjTuiR",
        "colab_type": "code",
        "colab": {}
      },
      "source": [
        "#learn = unet_learner(data_mr, arch, loss_func=F.l1_loss, blur=True, norm_type=NormType.Weight)"
      ],
      "execution_count": 0,
      "outputs": []
    },
    {
      "cell_type": "code",
      "metadata": {
        "id": "NZUNSm4BMagJ",
        "colab_type": "code",
        "outputId": "02b959c5-856e-4ccc-f12f-0b96e3afaeb1",
        "colab": {
          "base_uri": "https://localhost:8080/",
          "height": 34
        }
      },
      "source": [
        "super_res_model = '/content/gdrive/My Drive/fastai-v3/Super Res v2.2'\n",
        "learn.load(super_res_model)\n",
        "print('p')"
      ],
      "execution_count": 0,
      "outputs": [
        {
          "output_type": "stream",
          "text": [
            "p\n"
          ],
          "name": "stdout"
        }
      ]
    },
    {
      "cell_type": "code",
      "metadata": {
        "id": "7jaXk4xOL3M2",
        "colab_type": "code",
        "outputId": "760261a9-c20e-4151-b58d-a4487519c20f",
        "colab": {
          "base_uri": "https://localhost:8080/",
          "height": 34
        }
      },
      "source": [
        "#make folder for super res images \n",
        "new_folder = os.path.dirname(path_land_sat)\n",
        "super_res_folder = 'LS 160 HR'\n",
        "sr_dir = os.path.join(new_folder,super_res_folder)\n",
        "print(sr_dir)\n",
        "Path(sr_dir).mkdir(parents=True, exist_ok=True)\n",
        "#import glob\n",
        "#ls_path_str = str(path_land_sat)\n",
        "#list_of_LS_img = (glob.glob(ls_path_str+\"/*.png\"))"
      ],
      "execution_count": 0,
      "outputs": [
        {
          "output_type": "stream",
          "text": [
            "/content/gdrive/My Drive/fastai-v3/Test Land Sat bunch/LS 160 HR\n"
          ],
          "name": "stdout"
        }
      ]
    },
    {
      "cell_type": "code",
      "metadata": {
        "id": "6OXVmzmfPFpl",
        "colab_type": "code",
        "colab": {}
      },
      "source": [
        "import imageio\n",
        "#print(SR_image_dir)\n",
        "\n"
      ],
      "execution_count": 0,
      "outputs": []
    },
    {
      "cell_type": "code",
      "metadata": {
        "id": "907aEnYyVfCV",
        "colab_type": "code",
        "colab": {}
      },
      "source": [
        "labels = data_mr.valid_dl.dataset.items\n",
        "labels_list = labels.tolist()\n",
        "images_list = list(map(str,(labels_list)))\n",
        "#images_list"
      ],
      "execution_count": 0,
      "outputs": []
    },
    {
      "cell_type": "code",
      "metadata": {
        "id": "MEFyOgF3MaeM",
        "colab_type": "code",
        "colab": {}
      },
      "source": [
        "import cv2\n",
        "\n",
        "learn.data = data_mr\n",
        "index = 0\n",
        "for lr_img in data_mr.valid_ds.x.items:\n",
        "  fn = data_mr.valid_ds.x.items[index]; \n",
        "  \n",
        "  img = open_image(fn); img.shape\n",
        "  p,img_hr,b = learn.predict(img)\n",
        "\n",
        "\n",
        "  #show_image(img, figsize=(18,15), interpolation='nearest');\n",
        "\n",
        "  #print(index)\n",
        "\n",
        "  file_name = os.path.basename(images_list[index])\n",
        "\n",
        "  sr_dirP = (Path(sr_dir))\n",
        "\n",
        "  p.save(sr_dirP/file_name)\n",
        "\n",
        "\n",
        "\n",
        "\n",
        "  # img_hr_np = img_hr.numpy()\n",
        "\n",
        "  # img_ht_np2 = np.moveaxis(img_hr_np,0,2)\n",
        "\n",
        "  # SR_image_name = file_name\n",
        "\n",
        "  # SR_image_dir = os.path.join(sr_dir,SR_image_name)\n",
        "  # #print(img_ht_np2.min(),img_ht_np2.max())\n",
        "\n",
        "  # save(SR_image_dir/names[i].name)\n",
        "\n",
        "  #imageio.imwrite(SR_image_dir,img_ht_np2)\n",
        "  \n",
        "\n",
        "  index+=1\n",
        "  #print(index)"
      ],
      "execution_count": 0,
      "outputs": []
    },
    {
      "cell_type": "code",
      "metadata": {
        "id": "5SA1g70NKfxY",
        "colab_type": "code",
        "colab": {}
      },
      "source": [
        ""
      ],
      "execution_count": 0,
      "outputs": []
    },
    {
      "cell_type": "code",
      "metadata": {
        "id": "2es4yD3kKKpt",
        "colab_type": "code",
        "outputId": "a97d872d-53ad-4fb9-921b-747ba408f36e",
        "colab": {
          "base_uri": "https://localhost:8080/",
          "height": 34
        }
      },
      "source": [
        "\n",
        "  # img = cv2.imread(str(fn))\n",
        "  # img = cv2.cvtColor(img, cv2.COLOR_BGR2RGB)\n",
        "\n",
        "  # img_0_max = img[0].max()\n",
        "  # img_0_min = img[0].min()\n",
        "  # img_1_max = img[1].max()\n",
        "  # img_1_min = img[1].min()\n",
        "  # img_2_max = img[2].max()\n",
        "  # img_2_min = img[2].min()\n",
        "\n",
        "  # print(img_ht_np2.shape)\n",
        "  # img_ht_np2 = np.moveaxis(img_hr_np,2,1)\n",
        "\n",
        "\n",
        "  # img_ht_np2_0_max = img_ht_np2[0].max()\n",
        "  # img_ht_np2_0_min = img_ht_np2[0].min()\n",
        "  # img_ht_np2_1_max = img_ht_np2[1].max()\n",
        "  # img_ht_np2_1_min = img_ht_np2[1].min()\n",
        "  # img_ht_np2_2_max = img_ht_np2[2].max()\n",
        "  # img_ht_np2_2_min = img_ht_np2[2].min()\n",
        "\n",
        "\n",
        "  # img_ht_np2_0 = ((abs(img_ht_np2_0_min) + img_ht_np2[0])*img_0_max/(img_ht_np2_0_max+abs(img_ht_np2_0_min)))\n",
        "  # img_ht_np2_1 = ((abs(img_ht_np2_1_min) + img_ht_np2[1])*img_1_max/(img_ht_np2_1_max+abs(img_ht_np2_1_min)))\n",
        "  # img_ht_np2_2 = ((abs(img_ht_np2_2_min) + img_ht_np2[2])*img_2_max/(img_ht_np2_2_max+abs(img_ht_np2_2_min)))\n",
        "\n",
        "\n",
        "  # rebuilt_image =np.stack((img_ht_np2_0, img_ht_np2_1,img_ht_np2_2), axis = 2).astype(np.uint8)\n",
        "  # #print(rebuilt_image)\n",
        "\n",
        "#fn = data_mr.valid_ds.x.items[index]; \n",
        "# img = open_image(fn); img.shape\n",
        "# print(img.data)\n",
        "#p,img_hr,b = learn.predict(img)\n",
        "fn"
      ],
      "execution_count": 0,
      "outputs": [
        {
          "output_type": "execute_result",
          "data": {
            "text/plain": [
              "PosixPath('/content/gdrive/My Drive/fastai-v3/Test Land Sat bunch/Col_ls5/20011_ga_ls5t_ard_3_0075.png')"
            ]
          },
          "metadata": {
            "tags": []
          },
          "execution_count": 68
        }
      ]
    },
    {
      "cell_type": "code",
      "metadata": {
        "id": "MUxXUm5xKKnc",
        "colab_type": "code",
        "outputId": "fea3a59a-ed5d-4c1f-c584-ac580e8aed06",
        "colab": {
          "base_uri": "https://localhost:8080/",
          "height": 527
        }
      },
      "source": [
        "\n",
        "\n",
        "\n",
        "\n",
        "#rebuilt_image.shape\n",
        "#print(img_0_max)\n",
        "#print(img_ht_np2_0.max())\n",
        "# print(img_0_min)\n",
        "# print(img_ht_np2_0.min())\n",
        "# print(img_1_min)\n",
        "# print(img_ht_np2_1.min())\n",
        "# print(img_2_min)\n",
        "# print(img_ht_np2_2.min())\n",
        "\n",
        "# print(img_0_max)\n",
        "# print(img_ht_np2_0.max())\n",
        "# print(img_1_max)\n",
        "# print(img_ht_np2_1.max())\n",
        "# print(img_2_max)\n",
        "# print(img_ht_np2_2.max())\n",
        "\n",
        "\n",
        "\n",
        "#print(img_ht_np2_0.min())\n",
        "\n",
        "\n",
        "\n",
        "\n",
        "#print(img_ht_np2)\n",
        "#show_image(img_ht_np2, figsize=(18,15), interpolation='nearest');\n"
      ],
      "execution_count": 0,
      "outputs": [
        {
          "output_type": "stream",
          "text": [
            "(3, 400, 400)\n",
            "[[[55.343575 51.20875  51.307434 52.86357  ... 49.069096 49.5334   50.87641  50.79513 ]\n",
            "  [52.715816 51.736404 50.73166  51.71347  ... 48.351105 48.5204   49.275864 51.10145 ]\n",
            "  [51.20403  50.972332 50.293156 50.812843 ... 49.41679  47.980057 48.157036 49.753654]\n",
            "  [51.6559   50.818684 51.53644  51.319366 ... 48.6491   47.95225  49.674015 51.593887]\n",
            "  ...\n",
            "  [50.98786  49.152657 47.675056 49.33832  ... 55.949657 55.929028 56.984894 57.824753]\n",
            "  [49.870415 45.295303 46.97701  49.443848 ... 57.544163 56.914913 57.45043  58.377846]\n",
            "  [52.83072  51.094654 48.246395 48.08404  ... 58.606686 57.72443  57.769638 58.370384]\n",
            "  [54.61412  58.636982 49.55326  48.643322 ... 58.608696 58.234215 58.058414 58.79683 ]]\n",
            "\n",
            " [[43.610107 50.864433 50.298016 49.580574 ... 46.173306 46.17163  46.631676 47.37595 ]\n",
            "  [44.855957 46.073925 48.91847  48.268963 ... 45.693447 45.333603 45.329685 45.155193]\n",
            "  [45.54885  45.925484 48.5358   47.988792 ... 45.8661   44.3892   44.477097 49.24813 ]\n",
            "  [46.218952 46.901653 48.478977 48.558147 ... 44.83658  44.390156 45.262512 47.25413 ]\n",
            "  ...\n",
            "  [49.738754 49.270123 48.83525  48.847244 ... 52.707645 53.555595 54.146378 54.918392]\n",
            "  [47.67672  45.984806 47.650414 47.994778 ... 54.006294 54.19377  54.94571  55.08627 ]\n",
            "  [45.627834 45.61415  49.13668  46.894615 ... 54.526566 54.71115  55.281082 55.544872]\n",
            "  [49.314163 50.339527 49.335625 49.342922 ... 54.81351  55.164986 55.460136 56.297104]]\n",
            "\n",
            " [[48.449184 53.65405  52.943012 51.772408 ... 48.095016 48.529167 48.630135 47.27828 ]\n",
            "  [47.594868 50.171535 51.061054 50.61204  ... 47.31644  47.1832   47.040077 47.59002 ]\n",
            "  [46.34839  49.212986 50.231304 50.02861  ... 46.842552 45.844124 45.029636 46.116093]\n",
            "  [47.907772 48.5538   49.595318 50.141865 ... 46.200012 46.22359  47.869495 46.606674]\n",
            "  ...\n",
            "  [47.87818  47.668266 48.229534 48.484207 ... 55.318176 56.007183 56.629757 57.244514]\n",
            "  [46.746853 44.047073 46.846535 48.345062 ... 56.527493 56.520256 57.398636 57.053913]\n",
            "  [39.35099  39.440914 47.259132 47.33663  ... 57.241066 56.852757 57.21608  57.82657 ]\n",
            "  [28.119661 40.546837 47.643436 47.089622 ... 57.17631  57.378662 57.735676 58.56074 ]]]\n"
          ],
          "name": "stdout"
        }
      ]
    },
    {
      "cell_type": "code",
      "metadata": {
        "id": "ND2e1FWnACsg",
        "colab_type": "code",
        "colab": {}
      },
      "source": [
        "learn.data = data_mr\n",
        "fn = data_mr.valid_ds.x.items[0]; fn\n",
        "img = open_image(fn); img.shape\n",
        "p,img_hr,b = learn.predict(img)\n",
        "Image(img_hr).show(figsize=(6,6))"
      ],
      "execution_count": 0,
      "outputs": []
    },
    {
      "cell_type": "code",
      "metadata": {
        "id": "I5Yyd3fyAfha",
        "colab_type": "code",
        "outputId": "35ce05f6-e8c0-4699-be88-7a1808e9ef75",
        "colab": {
          "base_uri": "https://localhost:8080/",
          "height": 34
        }
      },
      "source": [
        "img_ht_np2[0].mean()"
      ],
      "execution_count": 0,
      "outputs": [
        {
          "output_type": "execute_result",
          "data": {
            "text/plain": [
              "0.15231423"
            ]
          },
          "metadata": {
            "tags": []
          },
          "execution_count": 123
        }
      ]
    },
    {
      "cell_type": "code",
      "metadata": {
        "id": "Dj8pyxXc3Uqj",
        "colab_type": "code",
        "colab": {}
      },
      "source": [
        ""
      ],
      "execution_count": 0,
      "outputs": []
    }
  ]
}